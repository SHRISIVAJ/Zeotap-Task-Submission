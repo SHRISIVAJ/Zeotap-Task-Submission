{
 "cells": [
  {
   "cell_type": "code",
   "execution_count": 1,
   "id": "4ecf2551-121a-4efc-ae1c-7ec665dc35e4",
   "metadata": {},
   "outputs": [
    {
     "name": "stdout",
     "output_type": "stream",
     "text": [
      "Report saved as Task_3_Report.pdf\n"
     ]
    },
    {
     "data": {
      "image/png": "[encoded data removed]",
      "text/plain": [
       "<Figure size 600x400 with 1 Axes>"
      ]
     },
     "metadata": {},
     "output_type": "display_data"
    }
   ],
   "source": [
    "from fpdf import FPDF\n",
    "import matplotlib.pyplot as plt\n",
    "\n",
    "# Define a class for PDF generation\n",
    "class PDFReport(FPDF):\n",
    "    def header(self):\n",
    "        self.set_font('Arial', 'B', 12)\n",
    "        self.cell(0, 10, 'Task 3: Customer Segmentation and Clustering Report', align='C', ln=True)\n",
    "\n",
    "    def chapter_title(self, chapter_title):\n",
    "        self.set_font('Arial', 'B', 12)\n",
    "        self.cell(0, 10, chapter_title, ln=True, align='L')\n",
    "        self.ln(5)\n",
    "\n",
    "    def chapter_body(self, text):\n",
    "        self.set_font('Arial', '', 12)\n",
    "        self.multi_cell(0, 10, text)\n",
    "        self.ln()\n",
    "\n",
    "    def add_plot(self, image_path, title):\n",
    "        self.add_page()\n",
    "        self.chapter_title(title)\n",
    "        self.image(image_path, w=180)\n",
    "\n",
    "# Generate PDF\n",
    "pdf = PDFReport()\n",
    "pdf.add_page()\n",
    "\n",
    "# Add Title\n",
    "pdf.set_font('Arial', 'B', 16)\n",
    "pdf.cell(0, 10, 'Task 3: Customer Segmentation and Clustering Report', ln=True, align='C')\n",
    "pdf.ln(10)\n",
    "\n",
    "# Add methodology\n",
    "pdf.chapter_title('Methodology')\n",
    "methodology = \"\"\"We used k-means clustering on customer profiles and transaction data.\n",
    "Evaluation metrics like DB Index were calculated to assess cluster quality.\"\"\"\n",
    "pdf.chapter_body(methodology)\n",
    "\n",
    "# Add example insights\n",
    "pdf.chapter_title('Insights')\n",
    "insights_text = \"\"\"\n",
    "1. Cluster 1 consists of high-value customers primarily aged 35-50.\n",
    "2. Cluster 2 represents younger customers with lower transaction frequency.\n",
    "3. Seasonal trends influence spending patterns significantly.\n",
    "\"\"\"\n",
    "pdf.chapter_body(insights_text)\n",
    "\n",
    "# Example: Save and add plots\n",
    "plot_path = \"cluster_visualization.png\"\n",
    "plt.figure(figsize=(6, 4))\n",
    "# Example dummy plot\n",
    "plt.scatter([1, 2, 3], [4, 5, 6], c='blue', label='Cluster 1')\n",
    "plt.scatter([7, 8, 9], [1, 2, 3], c='green', label='Cluster 2')\n",
    "plt.title('Cluster Visualization')\n",
    "plt.legend()\n",
    "plt.savefig(plot_path)\n",
    "pdf.add_plot(plot_path, 'Cluster Visualization')\n",
    "\n",
    "# Save PDF\n",
    "pdf.output(\"Task_3_Report.pdf\")\n",
    "print(\"Report saved as Task_3_Report.pdf\")\n",
    "\n"
   ]
  },
  {
   "cell_type": "code",
   "execution_count": 7,
   "id": "940db6b1-99f7-47ab-809c-d4c45e86005f",
   "metadata": {},
   "outputs": [
    {
     "name": "stdout",
     "output_type": "stream",
     "text": [
      "Collecting fpdf\n",
      "  Downloading fpdf-1.7.2.tar.gz (39 kB)\n",
      "  Preparing metadata (setup.py): started\n",
      "  Preparing metadata (setup.py): finished with status 'done'\n",
      "Building wheels for collected packages: fpdf\n",
      "  Building wheel for fpdf (setup.py): started\n",
      "  Building wheel for fpdf (setup.py): finished with status 'done'\n",
      "  Created wheel for fpdf: filename=fpdf-1.7.2-py2.py3-none-any.whl size=40714 sha256=0172e6c9ef881a4dc47cf570a60b207b6bd7f4600301b79a1420badeada6f284\n",
      "  Stored in directory: c:\\users\\shri siva edwin\\appdata\\local\\pip\\cache\\wheels\\6e\\62\\11\\dc73d78e40a218ad52e7451f30166e94491be013a7850b5d75\n",
      "Successfully built fpdf\n",
      "Installing collected packages: fpdf\n",
      "Successfully installed fpdf-1.7.2\n",
      "Note: you may need to restart the kernel to use updated packages.\n"
     ]
    }
   ],
   "source": [
    "pip install fpdf\n"
   ]
  },
  {
   "cell_type": "code",
   "execution_count": null,
   "id": "b6e349a3-0f3e-4cce-922d-eef91e8f4d3a",
   "metadata": {},
   "outputs": [],
   "source": []
  }
 ],
 "metadata": {
  "kernelspec": {
   "display_name": "Python 3 (ipykernel)",
   "language": "python",
   "name": "python3"
  },
  "language_info": {
   "codemirror_mode": {
    "name": "ipython",
    "version": 3
   },
   "file_extension": ".py",
   "mimetype": "text/x-python",
   "name": "python",
   "nbconvert_exporter": "python",
   "pygments_lexer": "ipython3",
   "version": "3.12.7"
  }
 },
 "nbformat": 4,
 "nbformat_minor": 5
}
